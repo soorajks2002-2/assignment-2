{
  "nbformat": 4,
  "nbformat_minor": 0,
  "metadata": {
    "colab": {
      "provenance": []
    },
    "kernelspec": {
      "name": "python3",
      "display_name": "Python 3"
    },
    "language_info": {
      "name": "python"
    }
  },
  "cells": [
    {
      "cell_type": "code",
      "source": [
        "import re\n",
        "\n",
        "import nltk\n",
        "from nltk import ne_chunk, pos_tag, word_tokenize\n",
        "from nltk.tree import Tree"
      ],
      "metadata": {
        "id": "VlnbnkKUEbmT"
      },
      "execution_count": 23,
      "outputs": []
    },
    {
      "cell_type": "code",
      "source": [
        "# nltk.download('punkt')\n",
        "# nltk.download('averaged_perceptron_tagger')\n",
        "# nltk.download('maxent_ne_chunker')\n",
        "# nltk.download('words')"
      ],
      "metadata": {
        "colab": {
          "base_uri": "https://localhost:8080/"
        },
        "id": "LBXxtCfBKBzu",
        "outputId": "b068ebc1-6af4-4ffd-9b32-cc2232fb03ee"
      },
      "execution_count": 112,
      "outputs": [
        {
          "output_type": "stream",
          "name": "stderr",
          "text": [
            "[nltk_data] Downloading package words to /root/nltk_data...\n",
            "[nltk_data]   Unzipping corpora/words.zip.\n"
          ]
        },
        {
          "output_type": "execute_result",
          "data": {
            "text/plain": [
              "True"
            ]
          },
          "metadata": {},
          "execution_count": 112
        }
      ]
    },
    {
      "cell_type": "code",
      "source": [
        "def get_regex (inp) :\n",
        "  phn_3 = re.findall(\"[0-9]{3}[ -][0-9]{3}[ -][0-9]{4}\", inp)\n",
        "  phn_10 = re.findall(\"[0-9]{10}\", inp)\n",
        "  email = re.findall(\"[a-zA-Z0-9-_.]+@[a-zA-Z0-9-_.]+\", inp)\n",
        "  website = re.findall(\"https?://(?:[-\\w.]|(?:%[\\da-fA-F]{2}))+\", inp)\n",
        "\n",
        "  return phn_3, phn_10, email, website"
      ],
      "metadata": {
        "id": "_P9N-Iw6FLO1"
      },
      "execution_count": 135,
      "outputs": []
    },
    {
      "cell_type": "code",
      "source": [
        "def get_names(text) :\n",
        "  names = []\n",
        "  nltk_results = ne_chunk(pos_tag(word_tokenize(text)))\n",
        "  for nltk_result in nltk_results:\n",
        "    if type(nltk_result) == Tree:\n",
        "      if nltk_result.label() == 'PERSON' :\n",
        "        name = ''\n",
        "        for nltk_result_leaf in nltk_result.leaves():\n",
        "          name += nltk_result_leaf[0] + ' '\n",
        "          names.append(name)\n",
        "  return names"
      ],
      "metadata": {
        "id": "-9HiGAVOJ-jL"
      },
      "execution_count": 139,
      "outputs": []
    },
    {
      "cell_type": "code",
      "source": [
        "text = '''Rajesh and his friends would like to connect with you. \n",
        "You can contact him on his line 123-123-1234 or 1231231234 or 3455436756 or 112-221-1122 or else mail him on rajeshmail.com or submit request on his site https://rajesh.com.\n",
        "Rajesh would be accompanied by Ramesh and James.\n",
        "'''"
      ],
      "metadata": {
        "id": "hRWIgIkaJ9q2"
      },
      "execution_count": 146,
      "outputs": []
    },
    {
      "cell_type": "code",
      "source": [
        "p1, p2, e, w = get_regex(text)\n",
        "na = get_names(text)\n",
        "res = [p1,p2,e,w] + na"
      ],
      "metadata": {
        "id": "QP5gPo0HN_Xa"
      },
      "execution_count": 147,
      "outputs": []
    },
    {
      "cell_type": "code",
      "source": [
        "for i in res :\n",
        "  print(i)"
      ],
      "metadata": {
        "colab": {
          "base_uri": "https://localhost:8080/"
        },
        "id": "eqQvV4rDS3Y1",
        "outputId": "757bc29a-2703-423a-fd6f-6f8a10d2bbbd"
      },
      "execution_count": 148,
      "outputs": [
        {
          "output_type": "stream",
          "name": "stdout",
          "text": [
            "['123-123-1234', '112-221-1122']\n",
            "['1231231234', '3455436756']\n",
            "[]\n",
            "['https://rajesh.com.']\n",
            "Rajesh \n",
            "Ramesh \n",
            "James \n"
          ]
        }
      ]
    },
    {
      "cell_type": "code",
      "source": [
        "if e == None :\n",
        "  print(\"yes\")"
      ],
      "metadata": {
        "id": "F1_mj2--TDcs"
      },
      "execution_count": 150,
      "outputs": []
    },
    {
      "cell_type": "code",
      "source": [],
      "metadata": {
        "id": "8dnvixtvU8e3"
      },
      "execution_count": null,
      "outputs": []
    }
  ]
}